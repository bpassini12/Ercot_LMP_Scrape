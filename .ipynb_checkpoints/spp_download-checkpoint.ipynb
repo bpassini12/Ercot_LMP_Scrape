{
 "cells": [
  {
   "cell_type": "code",
   "execution_count": 1,
   "id": "23b5ef0b-bfa6-43ca-9dc3-d213bfbd91f8",
   "metadata": {},
   "outputs": [],
   "source": [
    "import requests\n",
    "import os\n",
    "import xml\n",
    "from bs4 import BeautifulSoup\n",
    "import pandas as pd\n",
    "import re\n",
    "from zipfile import ZipFile\n",
    "import sqlite3\n",
    "import openpyxl as xl"
   ]
  },
  {
   "cell_type": "code",
   "execution_count": 2,
   "id": "7e7177fa-7dd8-46db-bd3b-f7431d411787",
   "metadata": {},
   "outputs": [],
   "source": [
    "#Website and file type to download\n",
    "\n",
    "Domain = 'http://mis.ercot.com'\n",
    "url = 'http://mis.ercot.com/misapp/GetReports.do?reportTypeId=13061&reportTitle=Historical%20RTM%20Load%20Zone%20and%20Hub%20Prices&showHTMLView=&mimicKey'\n",
    "filetype = 'zip'"
   ]
  },
  {
   "cell_type": "code",
   "execution_count": 3,
   "id": "443fc072-0114-4c9b-8e79-abc1ea568616",
   "metadata": {},
   "outputs": [],
   "source": [
    "#Get websites HTML, get all the filename and associated links\n",
    "\n",
    "soup = BeautifulSoup(requests.get(url).text, 'html.parser')\n",
    "file_list = soup.find_all(class_='labelOptional_ind')\n",
    "link_list = soup.findAll('a', attrs={'href': re.compile(\"/misdownload/\")}) "
   ]
  },
  {
   "cell_type": "code",
   "execution_count": 4,
   "id": "c1487ccb-cc6d-4861-a5e5-204c540cdad0",
   "metadata": {},
   "outputs": [],
   "source": [
    "#Slim down the information in the previous list and put them into new lists\n",
    "\n",
    "link_name_list = []\n",
    "\n",
    "for link in link_list:\n",
    "    link_name_list.append(link.get('href'))\n",
    "\n",
    "folder_name_list = []    \n",
    "    \n",
    "for class_ in file_list:\n",
    "    folder_name_list.append(str(class_.next_element))"
   ]
  },
  {
   "cell_type": "code",
   "execution_count": 5,
   "id": "e8193842-8176-4a50-a34c-e1ecf8c6b40f",
   "metadata": {},
   "outputs": [],
   "source": [
    "#create a df of filename and links \n",
    "\n",
    "data_dict = {'ZipFolderName':folder_name_list, 'DownLoadLink':link_name_list}\n",
    "download_df = pd.DataFrame(data_dict)"
   ]
  },
  {
   "cell_type": "code",
   "execution_count": 6,
   "id": "b407a22c-cc81-47ff-bdf9-654ca30b6538",
   "metadata": {},
   "outputs": [],
   "source": [
    "#Download each zip from df that hasn't been downloaded already and save to specific folder in wd\n",
    "\n",
    "zip_list = os.listdir(os.path.join(os.getcwd(),  'LMP_Zips'))\n",
    "save_folder = 'LMP_Zips/'\n",
    "\n",
    "for i in range(len(download_df)):\n",
    "    file_name = download_df['ZipFolderName'][i]\n",
    "    link_name = download_df['DownLoadLink'][i]\n",
    "    \n",
    "    if file_name not in zip_list:\n",
    "        with open(save_folder + file_name, 'wb') as file:\n",
    "            response = requests.get(Domain + link_name)\n",
    "            file.write(response.content)\n"
   ]
  },
  {
   "cell_type": "code",
   "execution_count": 8,
   "id": "7df2d433-41f7-40f0-bbdc-2f680ad81aa1",
   "metadata": {},
   "outputs": [],
   "source": [
    "#extracts the xlsx from each zip and places in same directory\n",
    "\n",
    "zip_path = os.path.join(os.getcwd(),  'LMP_Zips')\n",
    "\n",
    "for file in os.listdir(zip_path):\n",
    "    if '.zip' in file:\n",
    "        with ZipFile(zip_path + '/' + file, 'r') as zipObj:\n",
    "            zipObj.extractall(path=zip_path)"
   ]
  },
  {
   "cell_type": "code",
   "execution_count": null,
   "id": "6a7e83e0-cc65-4828-8e6b-b74a5d3ccb9b",
   "metadata": {},
   "outputs": [],
   "source": [
    "#might use to delete old zip files after excel is extracted\n",
    "zip_path = os.path.join(os.getcwd(),  'LMP_Zips')\n",
    "\n",
    "for file in os.listdir(zip_path):\n",
    "    if '.zip' in file:"
   ]
  },
  {
   "cell_type": "code",
   "execution_count": 9,
   "id": "3b00f94d-8169-4861-a23f-2f2ea4c87847",
   "metadata": {},
   "outputs": [],
   "source": [
    "def create_connection(db_file):\n",
    "    \"\"\" create a database connection to the SQLite database\n",
    "        specified by db_file\n",
    "    :param db_file: database file\n",
    "    :return: Connection object or None\n",
    "    \"\"\"\n",
    "    conn = None\n",
    "    try:\n",
    "        conn = sqlite3.connect(db_file)\n",
    "        return conn\n",
    "    except Error as e:\n",
    "        print(e)\n",
    "\n",
    "    return conn"
   ]
  },
  {
   "cell_type": "code",
   "execution_count": 10,
   "id": "7d1bf53f-26bb-4f75-a4f2-a1f017240740",
   "metadata": {},
   "outputs": [],
   "source": [
    "def create_table(conn, create_table_sql):\n",
    "    \"\"\" create a table from the create_table_sql statement\n",
    "    :param conn: Connection object\n",
    "    :param create_table_sql: a CREATE TABLE statement\n",
    "    :return:\n",
    "    \"\"\"\n",
    "    try:\n",
    "        c = conn.cursor()\n",
    "        c.execute(create_table_sql)\n",
    "    except (TypeError, NameError) as e:\n",
    "        print(e)"
   ]
  },
  {
   "cell_type": "code",
   "execution_count": 43,
   "id": "1d69d0df-e3f5-4ab8-8d12-452b654297ad",
   "metadata": {},
   "outputs": [],
   "source": [
    "def delete_rows(conn, delete_sql):\n",
    "    ''' Delete rows from a sqlite db\n",
    "    :param conn: Connection object\n",
    "    :param delete_sql: a delete statement'''\n",
    "    c = conn.cursor()\n",
    "    c.execute(delete_sql)\n",
    "    conn.commit()\n",
    "    conn.close()"
   ]
  },
  {
   "cell_type": "code",
   "execution_count": 47,
   "id": "f79ce25b-1470-447c-83e0-a239ff00a1e1",
   "metadata": {},
   "outputs": [],
   "source": [
    "conn = create_connection(r'C:\\Users\\BPassini\\Databases_Py\\Ercot_SPP\\LMP_DB.db')"
   ]
  },
  {
   "cell_type": "code",
   "execution_count": 12,
   "id": "9e345e7f-d188-4caa-aa23-1b8d290c2bf7",
   "metadata": {},
   "outputs": [],
   "source": [
    "sql_create_lmp_table = ''' Create Table if not exists ercot_hist_spp (\n",
    "                                    DELIVERY_DATE text,\n",
    "                                    DELIVERY_HOUR integer,\n",
    "                                    DELIVERY_INTERVAL integer,\n",
    "                                    REPEATED_HOUR_FLAG text,\n",
    "                                    SETTLEMENT_POINT_NAME text,\n",
    "                                    SETTLEMENT_POINT_TYPE text,\n",
    "                                    SETTLEMENT_POINT_PRICE real);\n",
    "                                '''\n",
    "\n",
    "create_table(conn, sql_create_lmp_table)"
   ]
  },
  {
   "cell_type": "code",
   "execution_count": 30,
   "id": "31af8435-931f-4e81-8236-224f1e233a37",
   "metadata": {},
   "outputs": [],
   "source": [
    "conn.close()"
   ]
  },
  {
   "cell_type": "code",
   "execution_count": 28,
   "id": "77cfdfde-e774-4b02-9662-2127ca3eb01f",
   "metadata": {},
   "outputs": [
    {
     "name": "stdout",
     "output_type": "stream",
     "text": [
      "table dropped\n",
      "Wall time: 17 ms\n"
     ]
    }
   ],
   "source": [
    "%%time\n",
    "conn = create_connection(r'C:\\Users\\BPassini\\Databases_Py\\Ercot_SPP\\LMP_DB.db')\n",
    "\n",
    "cursor = conn.cursor()\n",
    "\n",
    "cursor.execute('''delete from ercot_hist_spp''')\n",
    "print('table dropped')\n",
    "\n",
    "conn.commit()\n",
    "conn.close()"
   ]
  },
  {
   "cell_type": "code",
   "execution_count": 48,
   "id": "c7b996c0-2f4a-48f4-9b55-7723ae3ab0a1",
   "metadata": {},
   "outputs": [
    {
     "data": {
      "text/html": [
       "<div>\n",
       "<style scoped>\n",
       "    .dataframe tbody tr th:only-of-type {\n",
       "        vertical-align: middle;\n",
       "    }\n",
       "\n",
       "    .dataframe tbody tr th {\n",
       "        vertical-align: top;\n",
       "    }\n",
       "\n",
       "    .dataframe thead th {\n",
       "        text-align: right;\n",
       "    }\n",
       "</style>\n",
       "<table border=\"1\" class=\"dataframe\">\n",
       "  <thead>\n",
       "    <tr style=\"text-align: right;\">\n",
       "      <th></th>\n",
       "      <th>DELIVERY_DATE</th>\n",
       "      <th>DELIVERY_HOUR</th>\n",
       "      <th>DELIVERY_INTERVAL</th>\n",
       "      <th>REPEATED_HOUR_FLAG</th>\n",
       "      <th>SETTLEMENT_POINT_NAME</th>\n",
       "      <th>SETTLEMENT_POINT_TYPE</th>\n",
       "      <th>SETTLEMENT_POINT_PRICE</th>\n",
       "    </tr>\n",
       "  </thead>\n",
       "  <tbody>\n",
       "  </tbody>\n",
       "</table>\n",
       "</div>"
      ],
      "text/plain": [
       "Empty DataFrame\n",
       "Columns: [DELIVERY_DATE, DELIVERY_HOUR, DELIVERY_INTERVAL, REPEATED_HOUR_FLAG, SETTLEMENT_POINT_NAME, SETTLEMENT_POINT_TYPE, SETTLEMENT_POINT_PRICE]\n",
       "Index: []"
      ]
     },
     "execution_count": 48,
     "metadata": {},
     "output_type": "execute_result"
    }
   ],
   "source": [
    "pd.read_sql_query('''select * from ercot_hist_spp where settlement_point_price is null''', conn)"
   ]
  },
  {
   "cell_type": "code",
   "execution_count": 45,
   "id": "bdccbe1f-b4b8-41fc-a3f1-b1d3432f306f",
   "metadata": {},
   "outputs": [],
   "source": [
    "delete_rows(conn, delete_sql='''delete from ercot_hist_spp where settlement_point_price is null''')"
   ]
  },
  {
   "cell_type": "code",
   "execution_count": 42,
   "id": "1f33d029-5371-49ef-b699-abf1454a1bb4",
   "metadata": {},
   "outputs": [
    {
     "data": {
      "text/html": [
       "<div>\n",
       "<style scoped>\n",
       "    .dataframe tbody tr th:only-of-type {\n",
       "        vertical-align: middle;\n",
       "    }\n",
       "\n",
       "    .dataframe tbody tr th {\n",
       "        vertical-align: top;\n",
       "    }\n",
       "\n",
       "    .dataframe thead th {\n",
       "        text-align: right;\n",
       "    }\n",
       "</style>\n",
       "<table border=\"1\" class=\"dataframe\">\n",
       "  <thead>\n",
       "    <tr style=\"text-align: right;\">\n",
       "      <th></th>\n",
       "      <th>max(DELIVERY_HOUR)</th>\n",
       "    </tr>\n",
       "  </thead>\n",
       "  <tbody>\n",
       "    <tr>\n",
       "      <th>0</th>\n",
       "      <td>24</td>\n",
       "    </tr>\n",
       "  </tbody>\n",
       "</table>\n",
       "</div>"
      ],
      "text/plain": [
       "   max(DELIVERY_HOUR)\n",
       "0                  24"
      ]
     },
     "execution_count": 42,
     "metadata": {},
     "output_type": "execute_result"
    }
   ],
   "source": [
    "max_date_df = pd.read_sql_query(\"Select max(DELIVERY_HOUR) from ercot_hist_spp where delivery_date = (select max(delivery_date) from ercot_hist_spp where settlement_point_price is not null)\", conn)\n",
    "max_date_df"
   ]
  },
  {
   "cell_type": "code",
   "execution_count": 33,
   "id": "adaea93b-2246-4265-912d-42f1acd79542",
   "metadata": {},
   "outputs": [],
   "source": [
    "df_1 = pd.read_sql_query(\"Select delivery_date, delivery_hour, settlement_point_name, avg(settlement_point_price) as spp from ercot_hist_spp group by delivery_date, delivery_hour, settlement_point_name \", conn)"
   ]
  },
  {
   "cell_type": "code",
   "execution_count": 34,
   "id": "e38a4d34-3ef9-4bce-81ed-2b9455ee96c3",
   "metadata": {},
   "outputs": [
    {
     "data": {
      "text/html": [
       "<div>\n",
       "<style scoped>\n",
       "    .dataframe tbody tr th:only-of-type {\n",
       "        vertical-align: middle;\n",
       "    }\n",
       "\n",
       "    .dataframe tbody tr th {\n",
       "        vertical-align: top;\n",
       "    }\n",
       "\n",
       "    .dataframe thead th {\n",
       "        text-align: right;\n",
       "    }\n",
       "</style>\n",
       "<table border=\"1\" class=\"dataframe\">\n",
       "  <thead>\n",
       "    <tr style=\"text-align: right;\">\n",
       "      <th></th>\n",
       "      <th>DELIVERY_DATE</th>\n",
       "      <th>DELIVERY_HOUR</th>\n",
       "      <th>SETTLEMENT_POINT_NAME</th>\n",
       "      <th>spp</th>\n",
       "    </tr>\n",
       "  </thead>\n",
       "  <tbody>\n",
       "  </tbody>\n",
       "</table>\n",
       "</div>"
      ],
      "text/plain": [
       "Empty DataFrame\n",
       "Columns: [DELIVERY_DATE, DELIVERY_HOUR, SETTLEMENT_POINT_NAME, spp]\n",
       "Index: []"
      ]
     },
     "execution_count": 34,
     "metadata": {},
     "output_type": "execute_result"
    }
   ],
   "source": [
    "df_1"
   ]
  },
  {
   "cell_type": "code",
   "execution_count": null,
   "id": "cd6d9563-eb60-4627-a4ab-e6934c257620",
   "metadata": {},
   "outputs": [],
   "source": [
    "df = pd.read_sql_query(\"Select *  from ercot_hist_spp where settlement_point_price isnull\", conn)"
   ]
  },
  {
   "cell_type": "code",
   "execution_count": 35,
   "id": "16da8e65-249b-4889-94ea-ea69af74087c",
   "metadata": {},
   "outputs": [
    {
     "name": "stdout",
     "output_type": "stream",
     "text": [
      "C:\\Users\\BPassini\\Github\\Ercot_LMP_Scrape\\LMP_Zips\\rpt.00013061.0000000000000000.RTMLZHBSPP_2010.xlsx\n",
      "Dec_1\n",
      "C:\\Users\\BPassini\\Github\\Ercot_LMP_Scrape\\LMP_Zips\\rpt.00013061.0000000000000000.RTMLZHBSPP_2011.xlsx\n",
      "Jan_1\n",
      "Feb_2\n",
      "Mar_3\n",
      "Apr_4\n",
      "May_5\n",
      "Jun_6\n",
      "Jul_7\n",
      "Aug_8\n",
      "Sep_9\n",
      "Oct_10\n",
      "Nov_11\n",
      "Dec_12\n",
      "C:\\Users\\BPassini\\Github\\Ercot_LMP_Scrape\\LMP_Zips\\rpt.00013061.0000000000000000.RTMLZHBSPP_2012.xlsx\n",
      "Jan_1\n",
      "Feb_2\n",
      "Mar_3\n",
      "Mar_4\n",
      "Apr_5\n",
      "May_6\n",
      "May_7\n",
      "Jun_8\n",
      "Jul_9\n",
      "Jul_10\n",
      "Aug_11\n",
      "Aug_12\n",
      "Sep_13\n",
      "Oct_14\n",
      "Oct_15\n",
      "Nov_16\n",
      "Dec_17\n",
      "Dec_18\n",
      "C:\\Users\\BPassini\\Github\\Ercot_LMP_Scrape\\LMP_Zips\\rpt.00013061.0000000000000000.RTMLZHBSPP_2013.xlsx\n",
      "Jan_1\n",
      "Jan_2\n",
      "Feb_3\n",
      "Mar_4\n",
      "Mar_5\n",
      "Apr_6\n",
      "May_7\n",
      "May_8\n",
      "Jun_9\n",
      "Jul_10\n",
      "Jul_11\n",
      "Aug_12\n",
      "Aug_13\n",
      "Sep_14\n",
      "Oct_15\n",
      "Oct_16\n",
      "Nov_17\n",
      "Dec_18\n",
      "Dec_19\n",
      "C:\\Users\\BPassini\\Github\\Ercot_LMP_Scrape\\LMP_Zips\\rpt.00013061.0000000000000000.RTMLZHBSPP_2014.xlsx\n",
      "Jan_1\n",
      "Jan_2\n",
      "Feb_3\n",
      "Mar_4\n",
      "Mar_5\n",
      "Apr_6\n",
      "May_7\n",
      "May_8\n",
      "Jun_9\n",
      "Jul_10\n",
      "Jul_11\n",
      "Aug_12\n",
      "Aug_13\n",
      "Sep_14\n",
      "Oct_15\n",
      "Oct_16\n",
      "Nov_17\n",
      "Dec_18\n",
      "Dec_19\n",
      "C:\\Users\\BPassini\\Github\\Ercot_LMP_Scrape\\LMP_Zips\\rpt.00013061.0000000000000000.RTMLZHBSPP_2015.xlsx\n",
      "Jan_1\n",
      "Jan_2\n",
      "Feb_3\n",
      "Mar_4\n",
      "Mar_5\n",
      "Apr_6\n",
      "May_7\n",
      "May_8\n",
      "Jun_9\n",
      "Jul_10\n",
      "Jul_11\n",
      "Aug_12\n",
      "Aug_13\n",
      "Sep_14\n",
      "Oct_15\n",
      "Oct_16\n",
      "Nov_17\n",
      "Dec_18\n",
      "Dec_19\n",
      "C:\\Users\\BPassini\\Github\\Ercot_LMP_Scrape\\LMP_Zips\\rpt.00013061.0000000000000000.RTMLZHBSPP_2016.xlsx\n",
      "Jan_1\n",
      "Jan_2\n",
      "Feb_3\n",
      "Mar_4\n",
      "Mar_5\n",
      "Apr_6\n",
      "May_7\n",
      "May_8\n",
      "Jun_9\n",
      "Jul_10\n",
      "Jul_11\n",
      "Aug_12\n",
      "Aug_13\n",
      "Sep_14\n",
      "Oct_15\n",
      "Oct_16\n",
      "Nov_17\n",
      "Dec_18\n",
      "Dec_19\n",
      "C:\\Users\\BPassini\\Github\\Ercot_LMP_Scrape\\LMP_Zips\\rpt.00013061.0000000000000000.RTMLZHBSPP_2017.xlsx\n",
      "Jan\n",
      "Feb\n",
      "Mar\n",
      "Apr\n",
      "May\n",
      "Jun\n",
      "Jul\n",
      "Aug\n",
      "Sep\n",
      "Oct\n",
      "Nov\n",
      "Dec\n",
      "C:\\Users\\BPassini\\Github\\Ercot_LMP_Scrape\\LMP_Zips\\rpt.00013061.0000000000000000.RTMLZHBSPP_2018.xlsx\n",
      "Jan\n",
      "Feb\n",
      "Mar\n",
      "Apr\n",
      "May\n",
      "Jun\n",
      "Jul\n",
      "Aug\n",
      "Sep\n",
      "Oct\n",
      "Nov\n",
      "Dec\n",
      "C:\\Users\\BPassini\\Github\\Ercot_LMP_Scrape\\LMP_Zips\\rpt.00013061.0000000000000000.RTMLZHBSPP_2019.xlsx\n",
      "Jan\n",
      "Feb\n",
      "Mar\n",
      "Apr\n",
      "May\n",
      "Jun\n",
      "Jul\n",
      "Aug\n",
      "Sep\n",
      "Oct\n",
      "Nov\n",
      "Dec\n",
      "C:\\Users\\BPassini\\Github\\Ercot_LMP_Scrape\\LMP_Zips\\rpt.00013061.0000000000000000.RTMLZHBSPP_2020.xlsx\n",
      "Jan\n",
      "Feb\n",
      "Mar\n",
      "Apr\n",
      "May\n",
      "Jun\n",
      "Jul\n",
      "Aug\n",
      "Sep\n",
      "Oct\n",
      "Nov\n",
      "Dec\n",
      "C:\\Users\\BPassini\\Github\\Ercot_LMP_Scrape\\LMP_Zips\\rpt.00013061.0000000000000000.RTMLZHBSPP_2021.xlsx\n",
      "Jan\n",
      "Feb\n",
      "Mar\n",
      "Apr\n",
      "May\n",
      "Jun\n",
      "Jul\n",
      "Aug\n",
      "Sep\n",
      "Oct\n",
      "Nov\n",
      "Dec\n",
      "Wall time: 39min 6s\n"
     ]
    }
   ],
   "source": [
    "%%time\n",
    "column_dict = {'Delivery Date':'DELIVERY_DATE'\n",
    "               , 'Delivery Hour':'DELIVERY_HOUR'\n",
    "               ,'Delivery Interval':'DELIVERY_INTERVAL'\n",
    "               ,'Repeated Hour Flag':'REPEATED_HOUR_FLAG'\n",
    "               ,'Settlement Point Name':'SETTLEMENT_POINT_NAME'\n",
    "               ,'Settlement Point Type':'SETTLEMENT_POINT_TYPE'\n",
    "               ,'Settlement Point Price':'SETTLEMENT_POINT_PRICE'}\n",
    "\n",
    "for file in os.listdir(os.path.join(os.getcwd(),  'LMP_Zips')):\n",
    "    if '.xlsx' in file:\n",
    "        file = os.path.join(os.getcwd(),  'LMP_Zips', file)\n",
    "        print(file)\n",
    "        wb = xl.load_workbook(file, read_only=True)\n",
    "        for sheet in wb.sheetnames:\n",
    "            print(sheet)\n",
    "            upload_sheet = pd.read_excel(file, sheet_name=sheet, engine='openpyxl')\n",
    "            upload_sheet['Delivery Date'] = pd.to_datetime(upload_sheet['Delivery Date'])\n",
    "            upload_sheet.rename(columns=column_dict, inplace=True)\n",
    "            upload_sheet.to_sql(name='ercot_hist_spp', con=conn, if_exists='append', index=False)\n",
    "        \n",
    "            "
   ]
  }
 ],
 "metadata": {
  "kernelspec": {
   "display_name": "Python 3",
   "language": "python",
   "name": "python3"
  },
  "language_info": {
   "codemirror_mode": {
    "name": "ipython",
    "version": 3
   },
   "file_extension": ".py",
   "mimetype": "text/x-python",
   "name": "python",
   "nbconvert_exporter": "python",
   "pygments_lexer": "ipython3",
   "version": "3.8.3"
  }
 },
 "nbformat": 4,
 "nbformat_minor": 5
}
