{
 "cells": [
  {
   "cell_type": "code",
   "execution_count": 1,
   "id": "23b5ef0b-bfa6-43ca-9dc3-d213bfbd91f8",
   "metadata": {},
   "outputs": [],
   "source": [
    "import requests\n",
    "import os\n",
    "import xml\n",
    "from bs4 import BeautifulSoup\n",
    "import pandas as pd\n",
    "import re\n",
    "from zipfile import ZipFile\n",
    "import sqlite3\n",
    "import openpyxl as xl\n",
    "pd.set_option('display.max_colwidth', None)\n",
    "#pd.set_option(\"display.max_rows\", None)"
   ]
  },
  {
   "cell_type": "code",
   "execution_count": 2,
   "id": "d4b464ef-69ad-45c0-8358-8d577f07bbfb",
   "metadata": {},
   "outputs": [],
   "source": [
    "lmp_db = r'C:\\Users\\BPassini\\Databases_Py\\Ercot_SPP\\LMP_DB.db'"
   ]
  },
  {
   "cell_type": "code",
   "execution_count": 3,
   "id": "65d3c0fe-91d7-4039-bbcd-6a013ef34405",
   "metadata": {},
   "outputs": [],
   "source": [
    "def create_connection(db_file):\n",
    "    \"\"\" create a database connection to the SQLite database\n",
    "        specified by db_file\n",
    "    :param db_file: database file\n",
    "    :return: Connection object or None\n",
    "    \"\"\"\n",
    "    conn = None\n",
    "    try:\n",
    "        conn = sqlite3.connect(db_file)\n",
    "        return conn\n",
    "    except Error as e:\n",
    "        print(e)\n",
    "\n",
    "    return conn"
   ]
  },
  {
   "cell_type": "code",
   "execution_count": 4,
   "id": "1d9ae47f-e6eb-4052-8ec0-e0a33548b3f0",
   "metadata": {},
   "outputs": [],
   "source": [
    "def query_db(db_file, sql):\n",
    "    conn = create_connection(db_file)\n",
    "    \n",
    "    df = pd.read_sql_query(sql, conn)\n",
    "    \n",
    "    conn.close()\n",
    "    \n",
    "    return df"
   ]
  },
  {
   "cell_type": "code",
   "execution_count": 5,
   "id": "66c4c9d3-bb98-4f00-a3c6-e8a176d129ab",
   "metadata": {},
   "outputs": [],
   "source": [
    "def create_table(conn, create_table_sql):\n",
    "    \"\"\" create a table from the create_table_sql statement\n",
    "    :param conn: Connection object\n",
    "    :param create_table_sql: a CREATE TABLE statement\n",
    "    :return:\n",
    "    \"\"\"\n",
    "    try:\n",
    "        c = conn.cursor()\n",
    "        c.execute(create_table_sql)\n",
    "    except (TypeError, NameError) as e:\n",
    "        print(e)"
   ]
  },
  {
   "cell_type": "code",
   "execution_count": 6,
   "id": "229753d2-2e4b-417f-a7ba-1c819f642ddf",
   "metadata": {},
   "outputs": [],
   "source": [
    "def delete_rows(conn, delete_sql):\n",
    "    ''' Delete rows from a sqlite db\n",
    "    :param conn: Connection object\n",
    "    :param delete_sql: a delete statement'''\n",
    "    c = conn.cursor()\n",
    "    c.execute(delete_sql)\n",
    "    conn.commit()\n",
    "    conn.close()"
   ]
  },
  {
   "cell_type": "code",
   "execution_count": 7,
   "id": "a2ff3a88-d534-40bf-939b-b5d812c25b41",
   "metadata": {},
   "outputs": [],
   "source": [
    "def check_max_date():\n",
    "    conn = create_connection(r'C:\\Users\\BPassini\\Databases_Py\\Ercot_SPP\\LMP_DB.db')\n",
    "    max_date_df = pd.read_sql_query('''Select max(DELIVERY_DATE) as MAX_DELIVERY_DATE,  max(DELIVERY_HOUR) as MAX_DELIVERY_HOUR \n",
    "                                       from ercot_hist_spp \n",
    "                                       where delivery_date = (select max(delivery_date) from ercot_hist_spp where settlement_point_price is not null)''', conn)\n",
    "    \n",
    "    max_date =  pd.to_datetime(max_date_df['MAX_DELIVERY_DATE'][0])\n",
    "    max_hour = max_date_df['MAX_DELIVERY_HOUR'][0]\n",
    "    conn.close()\n",
    "    return max_date, max_hour"
   ]
  },
  {
   "cell_type": "code",
   "execution_count": null,
   "id": "e7e014f0-7d95-44ec-8eaa-46d58892b56e",
   "metadata": {},
   "outputs": [],
   "source": [
    "#get max date of data in db\n",
    "max_date, max_hour = check_max_date()\n",
    "max_year = max_date.year\n",
    "max_mon = max_date.month\n",
    "max_day = max_date.day"
   ]
  },
  {
   "cell_type": "code",
   "execution_count": null,
   "id": "9b0e1527-2950-419b-bda3-cdb17ea34210",
   "metadata": {},
   "outputs": [],
   "source": [
    "#figure out which file to pull/start in\n",
    "\n",
    "if max_mon == 12 and max_day == 31 and max_hour == 24:\n",
    "    min_file_year = max_year + 1\n",
    "else:\n",
    "    min_file_year = max_year"
   ]
  },
  {
   "cell_type": "code",
   "execution_count": null,
   "id": "7e7177fa-7dd8-46db-bd3b-f7431d411787",
   "metadata": {},
   "outputs": [],
   "source": [
    "#Website and file type to download\n",
    "\n",
    "Domain = 'http://mis.ercot.com'\n",
    "url = 'http://mis.ercot.com/misapp/GetReports.do?reportTypeId=13061&reportTitle=Historical%20RTM%20Load%20Zone%20and%20Hub%20Prices&showHTMLView=&mimicKey'\n",
    "filetype = 'zip'"
   ]
  },
  {
   "cell_type": "code",
   "execution_count": null,
   "id": "443fc072-0114-4c9b-8e79-abc1ea568616",
   "metadata": {},
   "outputs": [],
   "source": [
    "#Get websites HTML, get all the filename and associated links\n",
    "\n",
    "soup = BeautifulSoup(requests.get(url).text, 'html.parser')\n",
    "file_list = soup.find_all(class_='labelOptional_ind')\n",
    "link_list = soup.findAll('a', attrs={'href': re.compile(\"/misdownload/\")}) "
   ]
  },
  {
   "cell_type": "code",
   "execution_count": null,
   "id": "c1487ccb-cc6d-4861-a5e5-204c540cdad0",
   "metadata": {},
   "outputs": [],
   "source": [
    "#Slim down the information in the previous list and put them into new lists\n",
    "\n",
    "link_name_list = []\n",
    "\n",
    "for link in link_list:\n",
    "    link_name_list.append(link.get('href'))\n",
    "\n",
    "folder_name_list = []    \n",
    "    \n",
    "for class_ in file_list:\n",
    "    folder_name_list.append(str(class_.next_element))"
   ]
  },
  {
   "cell_type": "code",
   "execution_count": null,
   "id": "e8193842-8176-4a50-a34c-e1ecf8c6b40f",
   "metadata": {},
   "outputs": [],
   "source": [
    "#create a df of filename and links \n",
    "\n",
    "data_dict = {'ZipFolderName':folder_name_list, 'DownLoadLink':link_name_list}\n",
    "download_df = pd.DataFrame(data_dict)\n",
    "download_df['ZipFolderYear'] = download_df.ZipFolderName.str.split('.').str[5].str[-4:]\n",
    "download_df['ZipFolderDate'] = download_df.ZipFolderName.str.split('.').str[3]"
   ]
  },
  {
   "cell_type": "code",
   "execution_count": null,
   "id": "59983970-3fc8-4524-bb74-e199deaabd67",
   "metadata": {},
   "outputs": [],
   "source": [
    "download_df.head()"
   ]
  },
  {
   "cell_type": "code",
   "execution_count": null,
   "id": "b407a22c-cc81-47ff-bdf9-654ca30b6538",
   "metadata": {},
   "outputs": [],
   "source": [
    "#download_df Download each zip from df that hasn't been downloaded already and save to specific folder in wd\n",
    "\n",
    "zip_list = os.listdir(os.path.join(os.getcwd(),  'LMP_Zips'))\n",
    "save_folder = 'LMP_Zips/'\n",
    "\n",
    "for i in range(len(download_df)):\n",
    "    zip_date = download_df['ZipFolderDate'][i]\n",
    "    zip_year = int(download_df['ZipFolderYear'][i])\n",
    "    zip_name = download_df['ZipFolderName'][i]\n",
    "    link_name = download_df['DownLoadLink'][i]\n",
    "    \n",
    "    if zip_year>=min_file_year and zip_name not in zip_list:\n",
    "        with open(save_folder + zip_name, 'wb') as file:\n",
    "            response = requests.get(Domain + link_name)\n",
    "            file.write(response.content)\n"
   ]
  },
  {
   "cell_type": "code",
   "execution_count": null,
   "id": "7df2d433-41f7-40f0-bbdc-2f680ad81aa1",
   "metadata": {},
   "outputs": [],
   "source": [
    "#extracts the xlsx from each zip and places in same directory\n",
    "\n",
    "zip_path = os.path.join(os.getcwd(),  'LMP_Zips')\n",
    "\n",
    "for file in os.listdir(zip_path):\n",
    "    if '.zip' in file:\n",
    "        with ZipFile(zip_path + '/' + file, 'r') as zipObj:\n",
    "            zipObj.extractall(path=zip_path)"
   ]
  },
  {
   "cell_type": "code",
   "execution_count": null,
   "id": "3ec6b9fa-fe4e-4a1c-98b1-1eb14d205530",
   "metadata": {},
   "outputs": [],
   "source": [
    "#delete zips\n",
    "for file in os.listdir(os.path.join(os.getcwd(),  'LMP_Zips')):\n",
    "    if '.zip' in file:\n",
    "        os.remove(os.path.join(os.getcwd(),  'LMP_Zips', file))\n",
    "    "
   ]
  },
  {
   "cell_type": "code",
   "execution_count": null,
   "id": "9e345e7f-d188-4caa-aa23-1b8d290c2bf7",
   "metadata": {},
   "outputs": [],
   "source": [
    "conn = create_connection(lmp_db)\n",
    "\n",
    "sql_create_lmp_table = ''' Create Table if not exists ercot_hist_spp (\n",
    "                                    DELIVERY_DATE text,\n",
    "                                    DELIVERY_HOUR integer,\n",
    "                                    DELIVERY_INTERVAL integer,\n",
    "                                    REPEATED_HOUR_FLAG text,\n",
    "                                    SETTLEMENT_POINT_NAME text,\n",
    "                                    SETTLEMENT_POINT_TYPE text,\n",
    "                                    SETTLEMENT_POINT_PRICE real);\n",
    "                                '''\n",
    "\n",
    "create_table(conn, sql_create_lmp_table)\n"
   ]
  },
  {
   "cell_type": "code",
   "execution_count": null,
   "id": "bdccbe1f-b4b8-41fc-a3f1-b1d3432f306f",
   "metadata": {},
   "outputs": [],
   "source": [
    "%%time\n",
    "delete_rows(conn, delete_sql='''delete from ercot_hist_spp where settlement_point_price is null''')"
   ]
  },
  {
   "cell_type": "code",
   "execution_count": null,
   "id": "98aecfe7-3142-4b8c-a3f8-bc7e4d0d71c0",
   "metadata": {},
   "outputs": [],
   "source": [
    "%%time\n",
    "query_db(lmp_db, sql=\"Select *  from ercot_hist_spp where settlement_point_price isnull\")"
   ]
  },
  {
   "cell_type": "code",
   "execution_count": null,
   "id": "16da8e65-249b-4889-94ea-ea69af74087c",
   "metadata": {},
   "outputs": [],
   "source": [
    "%%time\n",
    "column_dict = {'Delivery Date':'DELIVERY_DATE'\n",
    "               , 'Delivery Hour':'DELIVERY_HOUR'\n",
    "               ,'Delivery Interval':'DELIVERY_INTERVAL'\n",
    "               ,'Repeated Hour Flag':'REPEATED_HOUR_FLAG'\n",
    "               ,'Settlement Point Name':'SETTLEMENT_POINT_NAME'\n",
    "               ,'Settlement Point Type':'SETTLEMENT_POINT_TYPE'\n",
    "               ,'Settlement Point Price':'SETTLEMENT_POINT_PRICE'}\n",
    "\n",
    "conn = conn = create_connection(lmp_db)\n",
    "\n",
    "for file in os.listdir(os.path.join(os.getcwd(),  'LMP_Zips')):\n",
    "    if '.xlsx' in file and int(file[-9:-5]) >= min_file_year:\n",
    "        print(file)\n",
    "        file_path = os.path.join(os.getcwd(),  'LMP_Zips', file)\n",
    "        wb = xl.load_workbook(file_path, read_only=True)\n",
    "        for sheet in wb.sheetnames:\n",
    "            upload_sheet = pd.read_excel(file_path, sheet_name=sheet, engine='openpyxl')\n",
    "            upload_sheet['Delivery Date'] = pd.to_datetime(upload_sheet['Delivery Date'])\n",
    "            upload_sheet = upload_sheet[upload_sheet['Delivery Date']>max_date]\n",
    "            min_del_date = min(test_sheet['Delivery Date'])\n",
    "            max_del_date = max(test_sheet['Delivery Date'])\n",
    "            if len(upload_sheet)!=1:\n",
    "                upload_sheet.rename(columns=column_dict, inplace=True)\n",
    "                upload_sheet.to_sql(name='ercot_hist_spp', con=conn, if_exists='append', index=False)\n",
    "                print(sheet)\n",
    "                print(min_del_date, max_del_date)\n",
    "                \n",
    "                \n",
    "conn.close()"
   ]
  },
  {
   "cell_type": "code",
   "execution_count": null,
   "id": "ee2516b6-65c9-47a9-b1af-beaddc9e524d",
   "metadata": {},
   "outputs": [],
   "source": []
  }
 ],
 "metadata": {
  "kernelspec": {
   "display_name": "Python 3",
   "language": "python",
   "name": "python3"
  },
  "language_info": {
   "codemirror_mode": {
    "name": "ipython",
    "version": 3
   },
   "file_extension": ".py",
   "mimetype": "text/x-python",
   "name": "python",
   "nbconvert_exporter": "python",
   "pygments_lexer": "ipython3",
   "version": "3.8.3"
  }
 },
 "nbformat": 4,
 "nbformat_minor": 5
}
