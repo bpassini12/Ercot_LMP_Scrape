{
 "cells": [
  {
   "cell_type": "code",
   "execution_count": 1,
   "id": "23b5ef0b-bfa6-43ca-9dc3-d213bfbd91f8",
   "metadata": {},
   "outputs": [],
   "source": [
    "import requests\n",
    "import os\n",
    "import xml\n",
    "from bs4 import BeautifulSoup\n",
    "import pandas as pd\n",
    "import re\n",
    "from zipfile import ZipFile\n",
    "import sqlite3\n",
    "import openpyxl as xl\n",
    "import plotly.express as px\n",
    "pd.set_option('display.max_colwidth', None)\n",
    "#pd.set_option(\"display.max_rows\", None)"
   ]
  },
  {
   "cell_type": "code",
   "execution_count": 2,
   "id": "d4b464ef-69ad-45c0-8358-8d577f07bbfb",
   "metadata": {},
   "outputs": [],
   "source": [
    "lmp_db = r'C:\\Users\\BPassini\\Databases_Py\\Ercot_SPP\\LMP_DB.db'"
   ]
  },
  {
   "cell_type": "code",
   "execution_count": 3,
   "id": "65d3c0fe-91d7-4039-bbcd-6a013ef34405",
   "metadata": {},
   "outputs": [],
   "source": [
    "def create_connection(db_file):\n",
    "    \"\"\" create a database connection to the SQLite database\n",
    "        specified by db_file\n",
    "    :param db_file: database file\n",
    "    :return: Connection object or None\n",
    "    \"\"\"\n",
    "    conn = None\n",
    "    try:\n",
    "        conn = sqlite3.connect(db_file)\n",
    "        return conn\n",
    "    except Error as e:\n",
    "        print(e)\n",
    "\n",
    "    return conn"
   ]
  },
  {
   "cell_type": "code",
   "execution_count": 4,
   "id": "1d9ae47f-e6eb-4052-8ec0-e0a33548b3f0",
   "metadata": {},
   "outputs": [],
   "source": [
    "def query_db(db_file, sql):\n",
    "    conn = create_connection(db_file)\n",
    "    \n",
    "    df = pd.read_sql_query(sql, conn)\n",
    "    \n",
    "    conn.close()\n",
    "    \n",
    "    return df"
   ]
  },
  {
   "cell_type": "code",
   "execution_count": 29,
   "id": "66c4c9d3-bb98-4f00-a3c6-e8a176d129ab",
   "metadata": {},
   "outputs": [],
   "source": [
    "def create_table(db_file, create_table_sql):\n",
    "    \"\"\" create a table from the create_table_sql statement\n",
    "    :param conn: Connection object\n",
    "    :param create_table_sql: a CREATE TABLE statement\n",
    "    :return:\n",
    "    \"\"\"\n",
    "    try:\n",
    "        conn = create_connection(db_file)\n",
    "        c = conn.cursor()\n",
    "        c.execute(create_table_sql)\n",
    "    except (TypeError, NameError) as e:\n",
    "        print(e)"
   ]
  },
  {
   "cell_type": "code",
   "execution_count": 22,
   "id": "229753d2-2e4b-417f-a7ba-1c819f642ddf",
   "metadata": {},
   "outputs": [],
   "source": [
    "def delete_rows(db_file, delete_sql):\n",
    "    ''' Delete rows from a sqlite db\n",
    "    :param conn: Connection object\n",
    "    :param delete_sql: a delete statement'''\n",
    "    conn = create_connection(db_file)\n",
    "    c = conn.cursor()\n",
    "    c.execute(delete_sql)\n",
    "    conn.commit()\n",
    "    conn.close()"
   ]
  },
  {
   "cell_type": "code",
   "execution_count": 7,
   "id": "a2ff3a88-d534-40bf-939b-b5d812c25b41",
   "metadata": {},
   "outputs": [],
   "source": [
    "def check_max_date():\n",
    "    conn = create_connection(r'C:\\Users\\BPassini\\Databases_Py\\Ercot_SPP\\LMP_DB.db')\n",
    "    max_date_df = pd.read_sql_query('''Select max(DELIVERY_DATE) as MAX_DELIVERY_DATE,  max(DELIVERY_HOUR) as MAX_DELIVERY_HOUR \n",
    "                                       from ercot_hist_spp \n",
    "                                       where delivery_date = (select max(delivery_date) from ercot_hist_spp where settlement_point_price is not null)''', conn)\n",
    "    \n",
    "    max_date =  pd.to_datetime(max_date_df['MAX_DELIVERY_DATE'][0])\n",
    "    max_hour = max_date_df['MAX_DELIVERY_HOUR'][0]\n",
    "    conn.close()\n",
    "    return max_date, max_hour"
   ]
  },
  {
   "cell_type": "code",
   "execution_count": 8,
   "id": "e7e014f0-7d95-44ec-8eaa-46d58892b56e",
   "metadata": {},
   "outputs": [],
   "source": [
    "#get max date of data in db\n",
    "max_date, max_hour = check_max_date()\n",
    "max_year = max_date.year\n",
    "max_mon = max_date.month\n",
    "max_day = max_date.day"
   ]
  },
  {
   "cell_type": "code",
   "execution_count": 9,
   "id": "9b0e1527-2950-419b-bda3-cdb17ea34210",
   "metadata": {},
   "outputs": [],
   "source": [
    "#figure out which file to pull/start in\n",
    "\n",
    "if max_mon == 12 and max_day == 31 and max_hour == 24:\n",
    "    min_file_year = max_year + 1\n",
    "else:\n",
    "    min_file_year = max_year"
   ]
  },
  {
   "cell_type": "code",
   "execution_count": 10,
   "id": "61b9546e-84c6-4741-be8b-98e0c1f0f965",
   "metadata": {},
   "outputs": [
    {
     "data": {
      "text/plain": [
       "Timestamp('2021-07-17 00:00:00')"
      ]
     },
     "execution_count": 10,
     "metadata": {},
     "output_type": "execute_result"
    }
   ],
   "source": [
    "max_date"
   ]
  },
  {
   "cell_type": "code",
   "execution_count": 11,
   "id": "7e7177fa-7dd8-46db-bd3b-f7431d411787",
   "metadata": {},
   "outputs": [],
   "source": [
    "#Website and file type to download\n",
    "\n",
    "Domain = 'http://mis.ercot.com'\n",
    "url = 'http://mis.ercot.com/misapp/GetReports.do?reportTypeId=13061&reportTitle=Historical%20RTM%20Load%20Zone%20and%20Hub%20Prices&showHTMLView=&mimicKey'\n",
    "filetype = 'zip'"
   ]
  },
  {
   "cell_type": "code",
   "execution_count": 12,
   "id": "443fc072-0114-4c9b-8e79-abc1ea568616",
   "metadata": {},
   "outputs": [],
   "source": [
    "#Get websites HTML, get all the filename and associated links\n",
    "\n",
    "soup = BeautifulSoup(requests.get(url).text, 'html.parser')\n",
    "file_list = soup.find_all(class_='labelOptional_ind')\n",
    "link_list = soup.findAll('a', attrs={'href': re.compile(\"/misdownload/\")}) "
   ]
  },
  {
   "cell_type": "code",
   "execution_count": 13,
   "id": "c1487ccb-cc6d-4861-a5e5-204c540cdad0",
   "metadata": {},
   "outputs": [],
   "source": [
    "#Slim down the information in the previous list and put them into new lists\n",
    "\n",
    "link_name_list = []\n",
    "\n",
    "for link in link_list:\n",
    "    link_name_list.append(link.get('href'))\n",
    "\n",
    "folder_name_list = []    \n",
    "    \n",
    "for class_ in file_list:\n",
    "    folder_name_list.append(str(class_.next_element))"
   ]
  },
  {
   "cell_type": "code",
   "execution_count": 14,
   "id": "e8193842-8176-4a50-a34c-e1ecf8c6b40f",
   "metadata": {},
   "outputs": [],
   "source": [
    "#create a df of filename and links \n",
    "\n",
    "data_dict = {'ZipFolderName':folder_name_list, 'DownLoadLink':link_name_list}\n",
    "download_df = pd.DataFrame(data_dict)\n",
    "download_df['ZipFolderYear'] = download_df.ZipFolderName.str.split('.').str[5].str[-4:]\n",
    "download_df['ZipFolderDate'] = download_df.ZipFolderName.str.split('.').str[3]"
   ]
  },
  {
   "cell_type": "code",
   "execution_count": 15,
   "id": "59983970-3fc8-4524-bb74-e199deaabd67",
   "metadata": {},
   "outputs": [
    {
     "data": {
      "text/html": [
       "<div>\n",
       "<style scoped>\n",
       "    .dataframe tbody tr th:only-of-type {\n",
       "        vertical-align: middle;\n",
       "    }\n",
       "\n",
       "    .dataframe tbody tr th {\n",
       "        vertical-align: top;\n",
       "    }\n",
       "\n",
       "    .dataframe thead th {\n",
       "        text-align: right;\n",
       "    }\n",
       "</style>\n",
       "<table border=\"1\" class=\"dataframe\">\n",
       "  <thead>\n",
       "    <tr style=\"text-align: right;\">\n",
       "      <th></th>\n",
       "      <th>ZipFolderName</th>\n",
       "      <th>DownLoadLink</th>\n",
       "      <th>ZipFolderYear</th>\n",
       "      <th>ZipFolderDate</th>\n",
       "    </tr>\n",
       "  </thead>\n",
       "  <tbody>\n",
       "    <tr>\n",
       "      <th>0</th>\n",
       "      <td>rpt.00013061.0000000000000000.20210718.082737441.RTMLZHBSPP_2021.zip</td>\n",
       "      <td>/misdownload/servlets/mirDownload?mimic_duns=000000000&amp;doclookupId=784937331</td>\n",
       "      <td>2021</td>\n",
       "      <td>20210718</td>\n",
       "    </tr>\n",
       "    <tr>\n",
       "      <th>1</th>\n",
       "      <td>rpt.00013061.0000000000000000.20210101.084127415.RTMLZHBSPP_2020.zip</td>\n",
       "      <td>/misdownload/servlets/mirDownload?mimic_duns=000000000&amp;doclookupId=751356439</td>\n",
       "      <td>2020</td>\n",
       "      <td>20210101</td>\n",
       "    </tr>\n",
       "    <tr>\n",
       "      <th>2</th>\n",
       "      <td>rpt.00013061.0000000000000000.20200101.082516926.RTMLZHBSPP_2019.zip</td>\n",
       "      <td>/misdownload/servlets/mirDownload?mimic_duns=000000000&amp;doclookupId=694284436</td>\n",
       "      <td>2019</td>\n",
       "      <td>20200101</td>\n",
       "    </tr>\n",
       "    <tr>\n",
       "      <th>3</th>\n",
       "      <td>rpt.00013061.0000000000000000.20190101.082527062.RTMLZHBSPP_2018.zip</td>\n",
       "      <td>/misdownload/servlets/mirDownload?mimic_duns=000000000&amp;doclookupId=642564849</td>\n",
       "      <td>2018</td>\n",
       "      <td>20190101</td>\n",
       "    </tr>\n",
       "    <tr>\n",
       "      <th>4</th>\n",
       "      <td>rpt.00013061.0000000000000000.20180101.082427782.RTMLZHBSPP_2017.zip</td>\n",
       "      <td>/misdownload/servlets/mirDownload?mimic_duns=000000000&amp;doclookupId=592992943</td>\n",
       "      <td>2017</td>\n",
       "      <td>20180101</td>\n",
       "    </tr>\n",
       "  </tbody>\n",
       "</table>\n",
       "</div>"
      ],
      "text/plain": [
       "                                                          ZipFolderName  \\\n",
       "0  rpt.00013061.0000000000000000.20210718.082737441.RTMLZHBSPP_2021.zip   \n",
       "1  rpt.00013061.0000000000000000.20210101.084127415.RTMLZHBSPP_2020.zip   \n",
       "2  rpt.00013061.0000000000000000.20200101.082516926.RTMLZHBSPP_2019.zip   \n",
       "3  rpt.00013061.0000000000000000.20190101.082527062.RTMLZHBSPP_2018.zip   \n",
       "4  rpt.00013061.0000000000000000.20180101.082427782.RTMLZHBSPP_2017.zip   \n",
       "\n",
       "                                                                   DownLoadLink  \\\n",
       "0  /misdownload/servlets/mirDownload?mimic_duns=000000000&doclookupId=784937331   \n",
       "1  /misdownload/servlets/mirDownload?mimic_duns=000000000&doclookupId=751356439   \n",
       "2  /misdownload/servlets/mirDownload?mimic_duns=000000000&doclookupId=694284436   \n",
       "3  /misdownload/servlets/mirDownload?mimic_duns=000000000&doclookupId=642564849   \n",
       "4  /misdownload/servlets/mirDownload?mimic_duns=000000000&doclookupId=592992943   \n",
       "\n",
       "  ZipFolderYear ZipFolderDate  \n",
       "0          2021      20210718  \n",
       "1          2020      20210101  \n",
       "2          2019      20200101  \n",
       "3          2018      20190101  \n",
       "4          2017      20180101  "
      ]
     },
     "execution_count": 15,
     "metadata": {},
     "output_type": "execute_result"
    }
   ],
   "source": [
    "download_df.head()"
   ]
  },
  {
   "cell_type": "code",
   "execution_count": 16,
   "id": "b407a22c-cc81-47ff-bdf9-654ca30b6538",
   "metadata": {},
   "outputs": [],
   "source": [
    "#download_df Download each zip from df that hasn't been downloaded already and save to specific folder in wd\n",
    "\n",
    "zip_list = os.listdir(os.path.join(os.getcwd(),  'LMP_Zips'))\n",
    "save_folder = 'LMP_Zips/'\n",
    "\n",
    "for i in range(len(download_df)):\n",
    "    zip_date = download_df['ZipFolderDate'][i]\n",
    "    zip_year = int(download_df['ZipFolderYear'][i])\n",
    "    zip_name = download_df['ZipFolderName'][i]\n",
    "    link_name = download_df['DownLoadLink'][i]\n",
    "    \n",
    "    if zip_year>=min_file_year and zip_name not in zip_list:\n",
    "        with open(save_folder + zip_name, 'wb') as file:\n",
    "            response = requests.get(Domain + link_name)\n",
    "            file.write(response.content)\n"
   ]
  },
  {
   "cell_type": "code",
   "execution_count": 17,
   "id": "7df2d433-41f7-40f0-bbdc-2f680ad81aa1",
   "metadata": {},
   "outputs": [],
   "source": [
    "#extracts the xlsx from each zip and places in same directory\n",
    "\n",
    "zip_path = os.path.join(os.getcwd(),  'LMP_Zips')\n",
    "\n",
    "for file in os.listdir(zip_path):\n",
    "    if '.zip' in file and min_file_year:\n",
    "        with ZipFile(zip_path + '/' + file, 'r') as zipObj:\n",
    "            zipObj.extractall(path=zip_path)"
   ]
  },
  {
   "cell_type": "code",
   "execution_count": 18,
   "id": "3ec6b9fa-fe4e-4a1c-98b1-1eb14d205530",
   "metadata": {},
   "outputs": [],
   "source": [
    "#delete zips\n",
    "for file in os.listdir(os.path.join(os.getcwd(),  'LMP_Zips')):\n",
    "    if '.zip' in file:\n",
    "        os.remove(os.path.join(os.getcwd(),  'LMP_Zips', file))\n",
    "    "
   ]
  },
  {
   "cell_type": "code",
   "execution_count": 19,
   "id": "9e345e7f-d188-4caa-aa23-1b8d290c2bf7",
   "metadata": {},
   "outputs": [],
   "source": [
    "conn = create_connection(lmp_db)\n",
    "\n",
    "sql_create_lmp_table = ''' Create Table if not exists ercot_hist_spp (\n",
    "                                    DELIVERY_DATE text,\n",
    "                                    DELIVERY_HOUR integer,\n",
    "                                    DELIVERY_INTERVAL integer,\n",
    "                                    REPEATED_HOUR_FLAG text,\n",
    "                                    SETTLEMENT_POINT_NAME text,\n",
    "                                    SETTLEMENT_POINT_TYPE text,\n",
    "                                    SETTLEMENT_POINT_PRICE real);\n",
    "                                '''\n",
    "\n",
    "create_table(conn, sql_create_lmp_table)\n"
   ]
  },
  {
   "cell_type": "code",
   "execution_count": 23,
   "id": "bdccbe1f-b4b8-41fc-a3f1-b1d3432f306f",
   "metadata": {},
   "outputs": [
    {
     "name": "stdout",
     "output_type": "stream",
     "text": [
      "Wall time: 2.55 s\n"
     ]
    }
   ],
   "source": [
    "%%time\n",
    "delete_rows(lmp_db, delete_sql='''delete from ercot_hist_spp where settlement_point_price is null''')"
   ]
  },
  {
   "cell_type": "code",
   "execution_count": 24,
   "id": "98aecfe7-3142-4b8c-a3f8-bc7e4d0d71c0",
   "metadata": {},
   "outputs": [
    {
     "name": "stdout",
     "output_type": "stream",
     "text": [
      "Wall time: 2.57 s\n"
     ]
    },
    {
     "data": {
      "text/html": [
       "<div>\n",
       "<style scoped>\n",
       "    .dataframe tbody tr th:only-of-type {\n",
       "        vertical-align: middle;\n",
       "    }\n",
       "\n",
       "    .dataframe tbody tr th {\n",
       "        vertical-align: top;\n",
       "    }\n",
       "\n",
       "    .dataframe thead th {\n",
       "        text-align: right;\n",
       "    }\n",
       "</style>\n",
       "<table border=\"1\" class=\"dataframe\">\n",
       "  <thead>\n",
       "    <tr style=\"text-align: right;\">\n",
       "      <th></th>\n",
       "      <th>DELIVERY_DATE</th>\n",
       "      <th>DELIVERY_HOUR</th>\n",
       "      <th>DELIVERY_INTERVAL</th>\n",
       "      <th>REPEATED_HOUR_FLAG</th>\n",
       "      <th>SETTLEMENT_POINT_NAME</th>\n",
       "      <th>SETTLEMENT_POINT_TYPE</th>\n",
       "      <th>SETTLEMENT_POINT_PRICE</th>\n",
       "    </tr>\n",
       "  </thead>\n",
       "  <tbody>\n",
       "  </tbody>\n",
       "</table>\n",
       "</div>"
      ],
      "text/plain": [
       "Empty DataFrame\n",
       "Columns: [DELIVERY_DATE, DELIVERY_HOUR, DELIVERY_INTERVAL, REPEATED_HOUR_FLAG, SETTLEMENT_POINT_NAME, SETTLEMENT_POINT_TYPE, SETTLEMENT_POINT_PRICE]\n",
       "Index: []"
      ]
     },
     "execution_count": 24,
     "metadata": {},
     "output_type": "execute_result"
    }
   ],
   "source": [
    "%%time\n",
    "query_db(lmp_db, sql=\"Select *  from ercot_hist_spp where settlement_point_price isnull\")"
   ]
  },
  {
   "cell_type": "code",
   "execution_count": 25,
   "id": "16da8e65-249b-4889-94ea-ea69af74087c",
   "metadata": {},
   "outputs": [
    {
     "name": "stdout",
     "output_type": "stream",
     "text": [
      "rpt.00013061.0000000000000000.RTMLZHBSPP_2021.xlsx\n",
      "Jan\n",
      "Feb\n",
      "Mar\n",
      "Apr\n",
      "May\n",
      "Jun\n",
      "Jul\n",
      "Aug\n",
      "Sep\n",
      "Oct\n",
      "Nov\n",
      "Dec\n",
      "Wall time: 6min 7s\n"
     ]
    }
   ],
   "source": [
    "%%time\n",
    "column_dict = {'Delivery Date':'DELIVERY_DATE'\n",
    "               , 'Delivery Hour':'DELIVERY_HOUR'\n",
    "               ,'Delivery Interval':'DELIVERY_INTERVAL'\n",
    "               ,'Repeated Hour Flag':'REPEATED_HOUR_FLAG'\n",
    "               ,'Settlement Point Name':'SETTLEMENT_POINT_NAME'\n",
    "               ,'Settlement Point Type':'SETTLEMENT_POINT_TYPE'\n",
    "               ,'Settlement Point Price':'SETTLEMENT_POINT_PRICE'}\n",
    "\n",
    "conn = conn = create_connection(lmp_db)\n",
    "\n",
    "for file in os.listdir(os.path.join(os.getcwd(),  'LMP_Zips')):\n",
    "    if '.xlsx' in file and int(file[-9:-5]) >= min_file_year:\n",
    "        print(file)\n",
    "        file_path = os.path.join(os.getcwd(),  'LMP_Zips', file)\n",
    "        wb = xl.load_workbook(file_path, read_only=True)\n",
    "        for sheet in wb.sheetnames:\n",
    "            upload_sheet = pd.read_excel(file_path, sheet_name=sheet, engine='openpyxl')\n",
    "            upload_sheet.dropna(inplace=True)\n",
    "            upload_sheet['Delivery Date'] = pd.to_datetime(upload_sheet['Delivery Date'])\n",
    "            upload_sheet = upload_sheet[upload_sheet['Delivery Date']>max_date]\n",
    "            if len(upload_sheet)>0:\n",
    "                min_del_date = min(upload_sheet['Delivery Date'])\n",
    "                max_del_date = max(upload_sheet['Delivery Date'])\n",
    "                upload_sheet.rename(columns=column_dict, inplace=True)\n",
    "                upload_sheet.to_sql(name='ercot_hist_spp', con=conn, if_exists='append', index=False)\n",
    "                print(sheet + ' uploaded')\n",
    "                print(min_del_date, max_del_date)\n",
    "                \n",
    "                \n",
    "conn.close()"
   ]
  },
  {
   "cell_type": "code",
   "execution_count": 66,
   "id": "6b138f67-a3fe-44b9-a1d4-ac30c7c80234",
   "metadata": {},
   "outputs": [],
   "source": [
    "test_sheet = pd.read_excel(r'C:\\Users\\BPassini\\Github\\Ercot_LMP_Scrape\\LMP_Zips\\rpt.00013061.0000000000000000.RTMLZHBSPP_2021.xlsx', sheet_name='Oct', engine='openpyxl')"
   ]
  },
  {
   "cell_type": "code",
   "execution_count": 67,
   "id": "6e881776-e88a-4bbf-8285-c35d55696655",
   "metadata": {},
   "outputs": [
    {
     "data": {
      "text/html": [
       "<div>\n",
       "<style scoped>\n",
       "    .dataframe tbody tr th:only-of-type {\n",
       "        vertical-align: middle;\n",
       "    }\n",
       "\n",
       "    .dataframe tbody tr th {\n",
       "        vertical-align: top;\n",
       "    }\n",
       "\n",
       "    .dataframe thead th {\n",
       "        text-align: right;\n",
       "    }\n",
       "</style>\n",
       "<table border=\"1\" class=\"dataframe\">\n",
       "  <thead>\n",
       "    <tr style=\"text-align: right;\">\n",
       "      <th></th>\n",
       "      <th>Delivery Date</th>\n",
       "      <th>Delivery Hour</th>\n",
       "      <th>Delivery Interval</th>\n",
       "      <th>Repeated Hour Flag</th>\n",
       "      <th>Settlement Point Name</th>\n",
       "      <th>Settlement Point Type</th>\n",
       "      <th>Settlement Point Price</th>\n",
       "    </tr>\n",
       "  </thead>\n",
       "  <tbody>\n",
       "    <tr>\n",
       "      <th>0</th>\n",
       "      <td>2021-07-18</td>\n",
       "      <td>NaN</td>\n",
       "      <td>NaN</td>\n",
       "      <td>10</td>\n",
       "      <td>NaN</td>\n",
       "      <td>08:03:14</td>\n",
       "      <td>NaN</td>\n",
       "    </tr>\n",
       "  </tbody>\n",
       "</table>\n",
       "</div>"
      ],
      "text/plain": [
       "  Delivery Date  Delivery Hour  Delivery Interval  Repeated Hour Flag  \\\n",
       "0    2021-07-18            NaN                NaN                  10   \n",
       "\n",
       "   Settlement Point Name Settlement Point Type  Settlement Point Price  \n",
       "0                    NaN              08:03:14                     NaN  "
      ]
     },
     "execution_count": 67,
     "metadata": {},
     "output_type": "execute_result"
    }
   ],
   "source": [
    "test_sheet[test_sheet['Delivery Date']=='Jul 18, 2021']"
   ]
  },
  {
   "cell_type": "code",
   "execution_count": 73,
   "id": "93be344e-5f36-4572-82e9-c72d15001631",
   "metadata": {},
   "outputs": [
    {
     "data": {
      "text/html": [
       "<div>\n",
       "<style scoped>\n",
       "    .dataframe tbody tr th:only-of-type {\n",
       "        vertical-align: middle;\n",
       "    }\n",
       "\n",
       "    .dataframe tbody tr th {\n",
       "        vertical-align: top;\n",
       "    }\n",
       "\n",
       "    .dataframe thead th {\n",
       "        text-align: right;\n",
       "    }\n",
       "</style>\n",
       "<table border=\"1\" class=\"dataframe\">\n",
       "  <thead>\n",
       "    <tr style=\"text-align: right;\">\n",
       "      <th></th>\n",
       "      <th>DELIVERY_DATE</th>\n",
       "      <th>DELIVERY_HOUR</th>\n",
       "      <th>DELIVERY_INTERVAL</th>\n",
       "      <th>REPEATED_HOUR_FLAG</th>\n",
       "      <th>SETTLEMENT_POINT_NAME</th>\n",
       "      <th>SETTLEMENT_POINT_TYPE</th>\n",
       "      <th>SETTLEMENT_POINT_PRICE</th>\n",
       "    </tr>\n",
       "  </thead>\n",
       "  <tbody>\n",
       "  </tbody>\n",
       "</table>\n",
       "</div>"
      ],
      "text/plain": [
       "Empty DataFrame\n",
       "Columns: [DELIVERY_DATE, DELIVERY_HOUR, DELIVERY_INTERVAL, REPEATED_HOUR_FLAG, SETTLEMENT_POINT_NAME, SETTLEMENT_POINT_TYPE, SETTLEMENT_POINT_PRICE]\n",
       "Index: []"
      ]
     },
     "execution_count": 73,
     "metadata": {},
     "output_type": "execute_result"
    }
   ],
   "source": [
    "query_db(lmp_db, '''Select * from ercot_hist_spp where REPEATED_HOUR_FLAG = 10 ''')"
   ]
  },
  {
   "cell_type": "code",
   "execution_count": 72,
   "id": "6c494d0f-03d2-4264-a30e-4a9c1399775c",
   "metadata": {},
   "outputs": [],
   "source": [
    "delete_rows(lmp_db, '''delete from ercot_hist_spp where REPEATED_HOUR_FLAG = 10 ''')"
   ]
  },
  {
   "cell_type": "code",
   "execution_count": 33,
   "id": "a7fe2925-80ae-4328-903d-8c471737ddb5",
   "metadata": {},
   "outputs": [],
   "source": [
    "view_sql = '''CREATE VIEW avg_ercot_hist_spp AS\n",
    "                    \n",
    "                    Select DELIVERY_DATE, DELIVERY_HOUR, SETTLEMENT_POINT_NAME, SETTLEMENT_POINT_TYPE, avg(SETTLEMENT_POINT_PRICE) as SETTLEMENT_POINT_PRICE \n",
    "                    from ercot_hist_spp\n",
    "                    group by DELIVERY_DATE, DELIVERY_HOUR, SETTLEMENT_POINT_NAME, SETTLEMENT_POINT_TYPE\n",
    "                    '''"
   ]
  },
  {
   "cell_type": "code",
   "execution_count": 34,
   "id": "387d8ca7-eac9-40ad-9147-de072f95ae7b",
   "metadata": {},
   "outputs": [],
   "source": [
    "create_table(lmp_db, view_sql)"
   ]
  },
  {
   "cell_type": "code",
   "execution_count": null,
   "id": "8df16b27-35c6-4824-ad7b-c1084fc90a70",
   "metadata": {},
   "outputs": [],
   "source": [
    "chart_data = query_db(lmp_db, '''Select * from avg_ercot_hist_spp''')"
   ]
  },
  {
   "cell_type": "code",
   "execution_count": null,
   "id": "41003ebd-2a18-45b3-a01f-4220996b0e2d",
   "metadata": {},
   "outputs": [],
   "source": [
    "px."
   ]
  }
 ],
 "metadata": {
  "kernelspec": {
   "display_name": "Python 3",
   "language": "python",
   "name": "python3"
  },
  "language_info": {
   "codemirror_mode": {
    "name": "ipython",
    "version": 3
   },
   "file_extension": ".py",
   "mimetype": "text/x-python",
   "name": "python",
   "nbconvert_exporter": "python",
   "pygments_lexer": "ipython3",
   "version": "3.8.3"
  }
 },
 "nbformat": 4,
 "nbformat_minor": 5
}
